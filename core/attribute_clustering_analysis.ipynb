{
 "cells": [
  {
   "cell_type": "code",
   "execution_count": 7,
   "metadata": {},
   "outputs": [],
   "source": [
    "import matplotlib.pyplot as plt\n",
    "\n",
    "from resource_provisioning import load_resource_map_from_csv, load_company\n",
    "from resource import Resource\n",
    "\n",
    "\n",
    "def dep_lambda(val):\n",
    "    return lambda user: user.department == val\n",
    "\n",
    "def cost_lambda(val):\n",
    "    return lambda user: user.cost_center == val\n",
    "\n",
    "def mid_lambda(val):\n",
    "    return lambda user: user.manager_id == val\n",
    "\n",
    "def loc_lambda(val):\n",
    "    return lambda user: user.location == val\n",
    "\n",
    "def dir_lambda(val):\n",
    "    return lambda user: user.lowest_dir_id == val\n",
    "\n",
    "def family_lambda(val):\n",
    "    return lambda user: user.job_family == val\n",
    "\n",
    "def attribute_analysis(resource, resource_map, company):\n",
    "    users = resource_map[resource]\n",
    "    x = [] # Excess\n",
    "    y = [] # Match\n",
    "    for user_id in users:\n",
    "        user = company[user_id]\n",
    "        rule = dep_lambda(user.department)\n",
    "        rule_matches = set()\n",
    "        for employee in company.values():\n",
    "            if rule(employee):\n",
    "                rule_matches.add(employee.id)\n",
    "        match = users.intersection(rule_matches)\n",
    "        x.append(len(rule_matches)-len(match))\n",
    "        y.append(len(match))\n",
    "        \n",
    "        rule = cost_lambda(user.cost_center)\n",
    "        rule_matches = set()\n",
    "        for employee in company.values():\n",
    "            if rule(employee):\n",
    "                rule_matches.add(employee.id)\n",
    "        match = users.intersection(rule_matches)\n",
    "        x.append(len(rule_matches)-len(match))\n",
    "        y.append(len(match))\n",
    "        \n",
    "        rule = mid_lambda(user.manager_id)\n",
    "        rule_matches = set()\n",
    "        for employee in company.values():\n",
    "            if rule(employee):\n",
    "                rule_matches.add(employee.id)\n",
    "        match = users.intersection(rule_matches)\n",
    "        x.append(len(rule_matches)-len(match))\n",
    "        y.append(len(match))\n",
    "        \n",
    "        rule = loc_lambda(user.location)\n",
    "        rule_matches = set()\n",
    "        for employee in company.values():\n",
    "            if rule(employee):\n",
    "                rule_matches.add(employee.id)\n",
    "        match = users.intersection(rule_matches)\n",
    "        x.append(len(rule_matches)-len(match))\n",
    "        y.append(len(match))\n",
    "        \n",
    "        rule = dir_lambda(user.lowest_dir_id)\n",
    "        rule_matches = set()\n",
    "        for employee in company.values():\n",
    "            if rule(employee):\n",
    "                rule_matches.add(employee.id)\n",
    "        match = users.intersection(rule_matches)\n",
    "        x.append(len(rule_matches)-len(match))\n",
    "        y.append(len(match))\n",
    "        \n",
    "        rule = family_lambda(user.job_family)\n",
    "        rule_matches = set()\n",
    "        for employee in company.values():\n",
    "            if rule(employee):\n",
    "                rule_matches.add(employee.id)\n",
    "        match = users.intersection(rule_matches)\n",
    "        x.append(len(rule_matches)-len(match))\n",
    "        y.append(len(match))\n",
    "    \n",
    "    plt.xlabel('excess')\n",
    "    plt.ylabel('match')\n",
    "    plt.scatter(x,y)\n",
    "    plt.show()\n",
    "        \n",
    "\n",
    "\n",
    "def company_map(company):\n",
    "    company_map = {}\n",
    "    for employee in company:\n",
    "        company_map[employee.id] = employee\n",
    "    return company_map"
   ]
  },
  {
   "cell_type": "code",
   "execution_count": 8,
   "metadata": {},
   "outputs": [
    {
     "name": "stdout",
     "output_type": "stream",
     "text": [
      "Company size: 267703\n"
     ]
    }
   ],
   "source": [
    "resource_map = load_resource_map_from_csv(\"../../data/user_resources.csv\")\n",
    "company = company_map(load_company(\"../../data/users.csv\"))"
   ]
  },
  {
   "cell_type": "code",
   "execution_count": 9,
   "metadata": {},
   "outputs": [
    {
     "data": {
      "image/png": "[encoded data removed]",
      "text/plain": [
       "<Figure size 432x288 with 1 Axes>"
      ]
     },
     "metadata": {
      "needs_background": "light"
     },
     "output_type": "display_data"
    }
   ],
   "source": [
    "resource = Resource(891931,840)\n",
    "attribute_analysis(resource,resource_map,company)"
   ]
  },
  {
   "cell_type": "code",
   "execution_count": 10,
   "metadata": {},
   "outputs": [
    {
     "data": {
      "image/png": "[encoded data removed]",
      "text/plain": [
       "<Figure size 432x288 with 1 Axes>"
      ]
     },
     "metadata": {
      "needs_background": "light"
     },
     "output_type": "display_data"
    }
   ],
   "source": [
    "resource = Resource(426577,90)\n",
    "attribute_analysis(resource,resource_map,company)"
   ]
  },
  {
   "cell_type": "code",
   "execution_count": 11,
   "metadata": {},
   "outputs": [
    {
     "data": {
      "image/png": "[encoded data removed]",
      "text/plain": [
       "<Figure size 432x288 with 1 Axes>"
      ]
     },
     "metadata": {
      "needs_background": "light"
     },
     "output_type": "display_data"
    }
   ],
   "source": [
    "resource = Resource(411231,2072)\n",
    "attribute_analysis(resource,resource_map,company)"
   ]
  }
 ],
 "metadata": {
  "environment": {
   "name": "tf2-gpu.2-1.m48",
   "type": "gcloud",
   "uri": "gcr.io/deeplearning-platform-release/tf2-gpu.2-1:m48"
  },
  "kernelspec": {
   "display_name": "Python 3",
   "language": "python",
   "name": "python3"
  },
  "language_info": {
   "codemirror_mode": {
    "name": "ipython",
    "version": 3
   },
   "file_extension": ".py",
   "mimetype": "text/x-python",
   "name": "python",
   "nbconvert_exporter": "python",
   "pygments_lexer": "ipython3",
   "version": "3.7.6"
  }
 },
 "nbformat": 4,
 "nbformat_minor": 4
}
